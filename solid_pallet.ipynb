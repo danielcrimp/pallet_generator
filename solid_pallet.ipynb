{
 "cells": [
  {
   "cell_type": "code",
   "execution_count": 36,
   "metadata": {
    "collapsed": true,
    "ExecuteTime": {
     "start_time": "2023-05-14T21:55:00.435395Z",
     "end_time": "2023-05-14T21:55:00.437352Z"
    }
   },
   "outputs": [],
   "source": [
    "from solid import *\n",
    "from solid.utils import *\n",
    "\n",
    "class Pallet:\n",
    "    def __init__(self, width, depth):\n",
    "        self.width = width\n",
    "        self.depth = depth\n",
    "        self.tallness = 0\n",
    "        self.layers = []\n",
    "\n",
    "    def add_layer(self, item_width, item_depth, item_height, x_count, y_count):\n",
    "\n",
    "        if x_count < 2:\n",
    "            x_offset = 0\n",
    "        else:\n",
    "            x_offset = item_width + (self.width-(item_width*x_count))/(x_count-1)\n",
    "\n",
    "        if y_count < 2:\n",
    "            y_offset = 0\n",
    "        else:\n",
    "            y_offset = item_depth + (self.depth-(item_depth*y_count))/(y_count-1)\n",
    "\n",
    "        layer = cube([item_width, item_depth, item_height])\n",
    "        layer = translate([0,0,self.tallness])(layer)\n",
    "        for x in range(x_count):\n",
    "            for y in range(y_count):\n",
    "                item = cube([item_width, item_depth, item_height])\n",
    "                item = translate([x * x_offset, y * y_offset, self.tallness])(item)\n",
    "                layer += item\n",
    "\n",
    "        self.layers.append(layer)\n",
    "        self.tallness += item_height\n",
    "\n",
    "    def render(self, file_name=\"pallet.scad\"):\n",
    "        out = union()(*self.layers)\n",
    "        scad_render_to_file(out, file_name)\n"
   ]
  },
  {
   "cell_type": "code",
   "execution_count": 37,
   "outputs": [],
   "source": [
    "# Create a pallet with a width of 120 and a depth of 120\n",
    "pallet = Pallet(120, 120)\n",
    "\n",
    "# Add three layers to the pallet\n",
    "pallet.add_layer(item_width=20, item_depth=120, item_height=2, x_count=3, y_count=1)\n",
    "pallet.add_layer(item_width=20, item_depth=20, item_height=10, x_count=3, y_count=3)\n",
    "pallet.add_layer(item_width=120, item_depth=20, item_height=2, x_count=1, y_count=3)\n",
    "pallet.add_layer(item_width=20, item_depth=120, item_height=2, x_count=5, y_count=1)\n",
    "\n",
    "# Render the pallet to a file\n",
    "pallet.render(file_name=\"example_pallet.scad\")"
   ],
   "metadata": {
    "collapsed": false,
    "ExecuteTime": {
     "start_time": "2023-05-14T21:55:02.419281Z",
     "end_time": "2023-05-14T21:55:02.427820Z"
    }
   }
  },
  {
   "cell_type": "code",
   "execution_count": 38,
   "outputs": [],
   "source": [
    "# proceed"
   ],
   "metadata": {
    "collapsed": false,
    "ExecuteTime": {
     "start_time": "2023-05-14T21:55:07.144067Z",
     "end_time": "2023-05-14T21:55:07.148753Z"
    }
   }
  },
  {
   "cell_type": "code",
   "execution_count": null,
   "outputs": [],
   "source": [],
   "metadata": {
    "collapsed": false
   }
  }
 ],
 "metadata": {
  "kernelspec": {
   "display_name": "Python 3",
   "language": "python",
   "name": "python3"
  },
  "language_info": {
   "codemirror_mode": {
    "name": "ipython",
    "version": 2
   },
   "file_extension": ".py",
   "mimetype": "text/x-python",
   "name": "python",
   "nbconvert_exporter": "python",
   "pygments_lexer": "ipython2",
   "version": "2.7.6"
  }
 },
 "nbformat": 4,
 "nbformat_minor": 0
}
